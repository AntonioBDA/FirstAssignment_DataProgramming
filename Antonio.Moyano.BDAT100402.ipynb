{
 "cells": [
  {
   "cell_type": "markdown",
   "id": "9f9e7268-c556-49df-862e-bf24b34c764b",
   "metadata": {},
   "source": [
    "<h2> Question 1 C# </h2>\n",
    "What data type is each of the following?"
   ]
  },
  {
   "cell_type": "markdown",
   "id": "f6c5fe47-7ac4-4fdb-84dc-fff89526018b",
   "metadata": {},
   "source": [
    "| Value      | Datatype                               | \n",
    "| :---       |    :---------------------------------: | \n",
    "| 5          | Int                                    |\n",
    "| 5.0        | Float                                  | \n",
    "| 5 > 1      | Bool                                   |\n",
    "| \"5\"        | String                                 |\n",
    "| 5 * 2      | Double                                 |\n",
    "| \"5\" * 2    | String                                 |\n",
    "| \"5\" + \"2\"  | String                                 |\n",
    "| 5 / 2      | Float                                  |\n",
    "| 5 % 2      | Int                                    |\n",
    "| {5, 2, 1}  | Int[]                                  |\n",
    "| 5 == 3     | Bool                                   |\n",
    "| $\\pi$      | Float                                  |\n",
    "*Its important to clarify that some operations can't be done in C#, the datatype is the way you should save that value."
   ]
  },
  {
   "cell_type": "markdown",
   "id": "73af01df-afd3-4bcb-89c9-83b296c9205a",
   "metadata": {},
   "source": [
    "<h2> Question 2 C# </h2>\n",
    "Write (and evaluate) C# expressions that answer these questions"
   ]
  },
  {
   "cell_type": "markdown",
   "id": "2650efbc-d5a4-470f-bf30-3c947752b7ab",
   "metadata": {},
   "source": [
    "a. How many letters are there in 'Supercalifragilisticexpialidocious'?"
   ]
  },
  {
   "cell_type": "code",
   "execution_count": 3,
   "id": "7913b780-2456-4b94-a79a-9ce5c22b595e",
   "metadata": {},
   "outputs": [
    {
     "name": "stdout",
     "output_type": "stream",
     "text": [
      "34\n"
     ]
    }
   ],
   "source": [
    "string word = \"Supercalifragilisticexpialidocious\";\n",
    "Console.WriteLine(word.Length)"
   ]
  },
  {
   "cell_type": "markdown",
   "id": "803ac70d-bdc5-400d-9dcc-394a1d061d55",
   "metadata": {},
   "source": [
    "b. Does 'Supercalifragilisticexpialidocious' contain 'ice' as a substring?"
   ]
  },
  {
   "cell_type": "code",
   "execution_count": 10,
   "id": "dd43c2bf-fca8-4a1a-b993-edefce62cbf2",
   "metadata": {},
   "outputs": [
    {
     "name": "stdout",
     "output_type": "stream",
     "text": [
      "Yes it does\n"
     ]
    }
   ],
   "source": [
    "if(word.Contains(\"ice\") == true)\n",
    "{\n",
    "    Console.WriteLine(\"Yes it does\");\n",
    "}\n",
    "else\n",
    "{\n",
    "    Console.WriteLine(\"No, It Doesn't\");\n",
    "}"
   ]
  },
  {
   "cell_type": "markdown",
   "id": "8b410382-a8b8-448a-b34d-b0a9083a0153",
   "metadata": {},
   "source": [
    "c. Which of the following words is the longest: Supercalifragilisticexpialidocious, Honorificabilitudinitatibus, or Bababadalgharaghtakamminarronnkonn?"
   ]
  },
  {
   "cell_type": "code",
   "execution_count": 14,
   "id": "a7c6598f-52e0-4b65-b35f-90381f79505e",
   "metadata": {},
   "outputs": [
    {
     "name": "stdout",
     "output_type": "stream",
     "text": [
      "The longest word is: Bababadalgharaghtakamminarronnkonn\n"
     ]
    }
   ],
   "source": [
    "string wordb = \"Honorificabilitudinitatibus\";\n",
    "string wordc = \"Bababadalgharaghtakamminarronnkonn\";\n",
    "if(word.Length > wordb.Length)\n",
    "{ if (word.Length > wordc.Length)\n",
    "    {\n",
    "    Console.WriteLine(\"The longest word is: {0}\", word);\n",
    "    }\n",
    " else\n",
    "     {\n",
    "     Console.WriteLine(\"The longest word is: {0}\", wordc);\n",
    "     }\n",
    "}\n",
    "else\n",
    "{\n",
    "     Console.WriteLine(\"The longest word is: {0}\", wordb);\n",
    "}"
   ]
  },
  {
   "cell_type": "markdown",
   "id": "2beb5131-ef91-4e11-920f-40eb80491729",
   "metadata": {},
   "source": [
    "d. Which composer comes first in the dictionary: 'Berlioz', 'Borodin', 'Brian',\n",
    "'Bartok', 'Bellini', 'Buxtehude', 'Bernstein'. Which one comes last?\n",
    "Question 3 C#"
   ]
  },
  {
   "cell_type": "code",
   "execution_count": 23,
   "id": "06d99aef-74c0-4d1d-ab0f-6f3b6df1799d",
   "metadata": {},
   "outputs": [
    {
     "name": "stdout",
     "output_type": "stream",
     "text": [
      "The first in the dictionary is: Berlioz\n",
      "The Last in the dictionary is: Bernstein\n"
     ]
    }
   ],
   "source": [
    "using System.Collections.Generic;\n",
    "Dictionary<int, string> Composers = new Dictionary<int, string>();\n",
    "Composers.Add(1,\"Berlioz\");\n",
    "Composers.Add(2,\"Borodin\");\n",
    "Composers.Add(3,\"Brian\");\n",
    "Composers.Add(4,\"Bartok\");\n",
    "Composers.Add(5,\"Bellini\");\n",
    "Composers.Add(6,\"Buxtehude\");\n",
    "Composers.Add(7,\"Bernstein\");\n",
    "Console.WriteLine(\"The first in the dictionary is: {0}\",Composers[1]);\n",
    "Console.WriteLine(\"The Last in the dictionary is: {0}\",Composers[7]);"
   ]
  },
  {
   "cell_type": "markdown",
   "id": "784629b6-3e21-42fd-824b-27f297b02fa8",
   "metadata": {},
   "source": [
    "<h2> Question 3 C# </h2>\n",
    "Implement function triangleArea(a,b,c) that takes as input the lengths of the 3 sides of a triangle and returns the area of the triangle. By Heron's formula, the area of a triangle with side lengths a, b, and c is s(s − a)(s − b)(s − c), where s = (a + b + c)/2"
   ]
  },
  {
   "cell_type": "code",
   "execution_count": 43,
   "id": "a3f663c2-2167-4b08-bd7c-9baa83f9e98e",
   "metadata": {},
   "outputs": [],
   "source": [
    "using System; //Visual Studio syntax    \n",
    "    class triangleArea\n",
    "    {\n",
    "        public double TArea(double a, double b, double c)\n",
    "        {\n",
    "            double s;\n",
    "            s = (a + b + c)/2;\n",
    "            double area = Math.Pow((s * (s - a) * (s - b) * (s - c)), 0.5);\n",
    "            return area;\n",
    "        }\n",
    "    }"
   ]
  },
  {
   "cell_type": "code",
   "execution_count": 47,
   "id": "e31fc5bb-56b0-4e42-8f0d-651c6cfc996b",
   "metadata": {},
   "outputs": [
    {
     "name": "stdout",
     "output_type": "stream",
     "text": [
      "The area of the triangle with sides 2, 2 and 2 is: 1,7320508075688772 \n"
     ]
    }
   ],
   "source": [
    "triangleArea area = new triangleArea(); \n",
    "int a = 2;\n",
    "int b = 2;\n",
    "int c = 3;\n",
    "double trianglea;\n",
    "trianglea = area.TArea(a, b, c);\n",
    "Console.WriteLine(\"The area of the triangle with sides {0}, {1} and {2} is: {3} \",a ,b, c, trianglea);"
   ]
  },
  {
   "cell_type": "markdown",
   "id": "d69c8770-c8d9-41d4-8510-6ea75585ce14",
   "metadata": {},
   "source": [
    "<h2> Question 4 C# </h2>\n",
    "Write a program in C# Sharp to separate odd and even integers in separate arrays"
   ]
  },
  {
   "cell_type": "code",
   "execution_count": 1,
   "id": "3e9d7d8e-914b-4aac-8dab-6d4d3009e30c",
   "metadata": {},
   "outputs": [],
   "source": [
    "using System; //Visual Studio syntax    \n",
    "    class SeparateNumbers\n",
    "    {\n",
    "        public void OddEven(int[] a)\n",
    "        {\n",
    "            List<int> odd = new List<int>();\n",
    "            List<int> even = new List<int>();\n",
    "            foreach (int i in a)\n",
    "            {\n",
    "                if (i % 2 == 0)\n",
    "                {\n",
    "                    even.Add(i);\n",
    "                }\n",
    "                else\n",
    "                {\n",
    "                    odd.Add(i);\n",
    "                }\n",
    "            }\n",
    "            Console.WriteLine(\"{0} Odd numbers: \", odd.Count);\n",
    "            for (int j = 0; j < odd.Count; j++)\n",
    "            {\n",
    "                Console.Write(\"{0}  \", odd[j]);\n",
    "            }\n",
    "            Console.WriteLine(\"\\n{0} Even numbers: \", even.Count);\n",
    "            for (int k = 0; k < even.Count; k++)\n",
    "            {\n",
    "                Console.Write(\"{0}  \", even[k]);\n",
    "            }\n",
    "        }\n",
    "    }"
   ]
  },
  {
   "cell_type": "code",
   "execution_count": 2,
   "id": "14f5c81b-3e38-4730-8e5c-5d6b2993eeeb",
   "metadata": {},
   "outputs": [
    {
     "name": "stdout",
     "output_type": "stream",
     "text": [
      "6 Odd numbers: \n",
      "25  37  23  41  29  11  \n",
      "4 Even numbers: \n",
      "46  18  16  2  "
     ]
    }
   ],
   "source": [
    "SeparateNumbers test = new SeparateNumbers();\n",
    "int[] arr = new int[10];\n",
    "arr[0] = 25;\n",
    "arr[1] = 46;\n",
    "arr[2] = 37;\n",
    "arr[3] = 23;\n",
    "arr[4] = 41;\n",
    "arr[5] = 29;\n",
    "arr[6] = 18;\n",
    "arr[7] = 16;\n",
    "arr[8] = 2;\n",
    "arr[9] = 11;\n",
    "\n",
    "test.OddEven(arr);"
   ]
  },
  {
   "cell_type": "markdown",
   "id": "6835239d-2c1c-4dde-84c9-3a13a7a496e8",
   "metadata": {},
   "source": [
    "<h2> Question 5 C# </h2>\n",
    "a. Write a function inside(x,y,x1,y1,x2,y2) that returns True or False\n",
    "depending on whether the point (x,y) lies in the rectangle with lower left\n",
    "corner (x1,y1) and upper right corner (x2,y2).\n",
    "\n",
    "b. Use function inside() from part a. to write an expression that tests whether\n",
    "the point (1,1) lies in both of the following rectangles: one with lower left\n",
    "corner (0.3, 0.5) and upper right corner (1.1, 0.7) and the other with lower\n",
    "left corner (0.5, 0.2) and upper right corner (1.1, 2)."
   ]
  },
  {
   "cell_type": "code",
   "execution_count": 14,
   "id": "ca313296-e147-42d6-be1c-a827ec699351",
   "metadata": {},
   "outputs": [],
   "source": [
    "public void inside(int x, int y, int x1, int y1, int x2, int y2)\n",
    "    {\n",
    "        bool result;\n",
    "            if (x < x1 || x > x2 || y < y1 || y > y2)\n",
    "                { result = false; }\n",
    "            else\n",
    "                { result = true; }\n",
    "            Console.WriteLine(result);\n",
    "            if (x>=0.3 && x<=1.1 && y >=0.5 && y<=0.7)\n",
    "            {\n",
    "                if(x>=0.5 && x<=1.1 && y >=0.2 && y<=2)\n",
    "                { Console.WriteLine(\"The point ({0},{1}) lies in both rectangles\", x, y);}\n",
    "                else\n",
    "                { Console.WriteLine(\"The point ({0},{1}) lies just in the first rectangle\", x, y);}\n",
    "            }\n",
    "    }"
   ]
  },
  {
   "cell_type": "code",
   "execution_count": 15,
   "id": "eaffb85f-258b-4110-ad41-35f704500e9b",
   "metadata": {},
   "outputs": [
    {
     "name": "stdout",
     "output_type": "stream",
     "text": [
      "True\n"
     ]
    }
   ],
   "source": [
    "int x = 1;\n",
    "int y = 1;\n",
    "int a = 0;\n",
    "int b = 0;\n",
    "int c = 2;\n",
    "int d = 3;\n",
    "inside(x, y, a, b, c, d);"
   ]
  },
  {
   "cell_type": "markdown",
   "id": "ab8eccb7-9384-4fdd-b681-defce6e78e04",
   "metadata": {},
   "source": [
    "<h2> Question 6 Python </h2>\n",
    "You can turn a word into pig-Latin using the following two rules (simplified):\n",
    "\n",
    "- If the word starts with a consonant, move that letter to the end and append\n",
    "'ay'. For example, 'happy' becomes 'appyhay' and 'pencil' becomes 'encilpay'.\n",
    "\n",
    "- If the word starts with a vowel, simply append 'way' to the end of the word.\n",
    "For example, 'enter' becomes 'enterway' and 'other' becomes 'otherway'.\n",
    "\n",
    "For our purposes, there are 5 vowels: a, e, i, o, u (so we count y as a consonant).\n",
    "Write a function pig() that takes a word (i.e., a string) as input and returns its pig-\n",
    "Latin form. Your function should still work if the input word contains upper case\n",
    "characters. Your output should always be lower case however."
   ]
  },
  {
   "cell_type": "code",
   "execution_count": 2,
   "id": "538aa0a9-cafe-4f23-b0f2-40b1bc431033",
   "metadata": {},
   "outputs": [
    {
     "name": "stdout",
     "output_type": "stream",
     "text": [
      "appyhay\n"
     ]
    }
   ],
   "source": [
    "def pig(text):\n",
    " words = text.split()\n",
    " pig_text = []\n",
    " vowels = ['A','E','I','O','U','a','e','i','o','u']\n",
    "\n",
    " for word in words:\n",
    "    if word[0] in vowels:\n",
    "        word = word.lower() + 'way'\n",
    "        pig_text.append(word)\n",
    "    else:\n",
    "        word = word[1:] + word[0] + 'ay'\n",
    "        word = word.lower()\n",
    "        pig_text.append(word)\n",
    " return ' '.join(pig_text)\n",
    "\n",
    "print(pig(\"Happy\"))"
   ]
  },
  {
   "cell_type": "markdown",
   "id": "b8a242a7-71ea-4b71-82be-72d40cb02e4d",
   "metadata": {
    "tags": []
   },
   "source": [
    "<h2> Question 7 Python </h2>\n",
    "\n",
    "File *bloodtype1.txt* records blood-types of patients (A, B, AB, O or OO) at a clinic.\n",
    "Write a function bldcount() that reads the file with name name and reports (i.e.,\n",
    "prints) how many patients there are in each bloodtype."
   ]
  },
  {
   "cell_type": "code",
   "execution_count": 62,
   "id": "d7eef656-eba2-49cf-902e-f366223b46f7",
   "metadata": {},
   "outputs": [],
   "source": [
    "def bldcount(filename):\n",
    " with open(filename) as f:\n",
    "    lines = f.readlines()\n",
    "    array = lines[0].split()\n",
    "    count = {}\n",
    "    for i in array:\n",
    "     count[i] = array.count(i)\n",
    " btype = list(count.keys())\n",
    " values = list(count.values())\n",
    " j = 0\n",
    " for count in values:\n",
    "  if (count == 1):\n",
    "        print(\"there is 1 patient of blood type \" + btype[j])\n",
    "  else:\n",
    "        print(\"there are \" + str(values[j]) + \" patients of blood type \" + btype[j])\n",
    "  j += 1"
   ]
  },
  {
   "cell_type": "code",
   "execution_count": 63,
   "id": "37735028-fc35-4af4-a6ca-7abe1cd6f471",
   "metadata": {},
   "outputs": [
    {
     "name": "stdout",
     "output_type": "stream",
     "text": [
      "there are 13 patients of blood type AB\n",
      "there is 1 patient of blood type B\n",
      "there are 15 patients of blood type O\n",
      "there are 15 patients of blood type A\n"
     ]
    }
   ],
   "source": [
    "bldcount('bloodtype1.txt')"
   ]
  },
  {
   "cell_type": "markdown",
   "id": "69b55186-a1b3-4f37-9d2a-620bd01f1e31",
   "metadata": {
    "tags": []
   },
   "source": [
    "<h2> Question 8 Python </h2>\n",
    "Write a function curconv() that takes as input:\n",
    "\n",
    "1. a currency represented using a string (e.g., 'JPY' for the Japanese Yen or 'EUR' for the Euro)\n",
    "\n",
    "2. an amount\n",
    "\n",
    "and then converts and returns the amount in US dollars."
   ]
  },
  {
   "cell_type": "code",
   "execution_count": 102,
   "id": "273b37d6-bd4a-4164-a66d-def24d73001a",
   "metadata": {},
   "outputs": [],
   "source": [
    "def curconv(CUR, QTY):\n",
    "    filename ='currencies.txt'\n",
    "    array =[]\n",
    "    with open(filename) as f:\n",
    "        lines = f.readlines()\n",
    "        i = 0\n",
    "        for l in lines:\n",
    "            array.append(lines[i].split(\"\\t\"))\n",
    "            i+=1\n",
    "    conv = 0.0\n",
    "    for c in array:\n",
    "\n",
    "        if c[0] == CUR:\n",
    "           conv = QTY*float(c[1]) \n",
    "    print(conv)"
   ]
  },
  {
   "cell_type": "code",
   "execution_count": 103,
   "id": "26c6b39e-ae2c-4b3e-9141-202993a4e3ad",
   "metadata": {},
   "outputs": [
    {
     "name": "stdout",
     "output_type": "stream",
     "text": [
      "122.96544\n"
     ]
    }
   ],
   "source": [
    "curconv(\"EUR\", 100)"
   ]
  },
  {
   "cell_type": "markdown",
   "id": "d4e47e73-7d38-4478-a1ec-e57555894a20",
   "metadata": {},
   "source": [
    "<h2> Question 9 Python </h2>\n",
    "\n",
    "Each of the following will cause an exception (an error). Identify what type of exception each will cause."
   ]
  },
  {
   "cell_type": "markdown",
   "id": "2b00f97c-8639-4349-bc3f-380a79a7c77e",
   "metadata": {},
   "source": [
    "- Trying to add incompatible variables, as in adding 6 + ‘a"
   ]
  },
  {
   "cell_type": "code",
   "execution_count": 2,
   "id": "a124d2d2-16a9-46df-9371-1b319957c098",
   "metadata": {},
   "outputs": [
    {
     "ename": "TypeError",
     "evalue": "unsupported operand type(s) for +: 'int' and 'str'",
     "output_type": "error",
     "traceback": [
      "\u001b[1;31m---------------------------------------------------------------------------\u001b[0m",
      "\u001b[1;31mTypeError\u001b[0m                                 Traceback (most recent call last)",
      "\u001b[1;32m~\\AppData\\Local\\Temp/ipykernel_1808/1368363346.py\u001b[0m in \u001b[0;36m<module>\u001b[1;34m\u001b[0m\n\u001b[1;32m----> 1\u001b[1;33m \u001b[0mx\u001b[0m \u001b[1;33m=\u001b[0m \u001b[1;36m6\u001b[0m \u001b[1;33m+\u001b[0m\u001b[1;34m'a'\u001b[0m\u001b[1;33m\u001b[0m\u001b[1;33m\u001b[0m\u001b[0m\n\u001b[0m",
      "\u001b[1;31mTypeError\u001b[0m: unsupported operand type(s) for +: 'int' and 'str'"
     ]
    }
   ],
   "source": [
    "x = 6 +'a'"
   ]
  },
  {
   "cell_type": "markdown",
   "id": "290ce46a-5ea2-4520-916c-9a6e168f062c",
   "metadata": {},
   "source": [
    "- Referring to the 12th item of a list that has only 10 items"
   ]
  },
  {
   "cell_type": "code",
   "execution_count": 3,
   "id": "5d12f687-b958-4b3a-b58f-f4208c427206",
   "metadata": {},
   "outputs": [
    {
     "ename": "IndexError",
     "evalue": "list index out of range",
     "output_type": "error",
     "traceback": [
      "\u001b[1;31m---------------------------------------------------------------------------\u001b[0m",
      "\u001b[1;31mIndexError\u001b[0m                                Traceback (most recent call last)",
      "\u001b[1;32m~\\AppData\\Local\\Temp/ipykernel_1808/1468847890.py\u001b[0m in \u001b[0;36m<module>\u001b[1;34m\u001b[0m\n\u001b[0;32m      1\u001b[0m \u001b[0marr\u001b[0m \u001b[1;33m=\u001b[0m \u001b[1;33m[\u001b[0m\u001b[1;36m0\u001b[0m\u001b[1;33m,\u001b[0m\u001b[1;36m1\u001b[0m\u001b[1;33m,\u001b[0m\u001b[1;36m2\u001b[0m\u001b[1;33m,\u001b[0m\u001b[1;36m3\u001b[0m\u001b[1;33m,\u001b[0m\u001b[1;36m4\u001b[0m\u001b[1;33m,\u001b[0m\u001b[1;36m5\u001b[0m\u001b[1;33m,\u001b[0m\u001b[1;36m6\u001b[0m\u001b[1;33m,\u001b[0m\u001b[1;36m7\u001b[0m\u001b[1;33m,\u001b[0m\u001b[1;36m8\u001b[0m\u001b[1;33m,\u001b[0m\u001b[1;36m9\u001b[0m\u001b[1;33m]\u001b[0m\u001b[1;33m\u001b[0m\u001b[1;33m\u001b[0m\u001b[0m\n\u001b[1;32m----> 2\u001b[1;33m \u001b[0mprint\u001b[0m\u001b[1;33m(\u001b[0m\u001b[0marr\u001b[0m\u001b[1;33m[\u001b[0m\u001b[1;36m12\u001b[0m\u001b[1;33m]\u001b[0m\u001b[1;33m)\u001b[0m\u001b[1;33m\u001b[0m\u001b[1;33m\u001b[0m\u001b[0m\n\u001b[0m",
      "\u001b[1;31mIndexError\u001b[0m: list index out of range"
     ]
    }
   ],
   "source": [
    "arr = [0,1,2,3,4,5,6,7,8,9]\n",
    "print(arr[12])"
   ]
  },
  {
   "cell_type": "markdown",
   "id": "c3e8be17-82e9-4594-b4f6-74b615d26167",
   "metadata": {},
   "source": [
    "- Using a value that is out of range for a function’s input"
   ]
  },
  {
   "cell_type": "code",
   "execution_count": 9,
   "id": "d57f2329-dceb-4c33-aee7-4c86daf6f665",
   "metadata": {},
   "outputs": [
    {
     "ename": "ValueError",
     "evalue": "math domain error",
     "output_type": "error",
     "traceback": [
      "\u001b[1;31m---------------------------------------------------------------------------\u001b[0m",
      "\u001b[1;31mValueError\u001b[0m                                Traceback (most recent call last)",
      "\u001b[1;32m~\\AppData\\Local\\Temp/ipykernel_1808/2553415339.py\u001b[0m in \u001b[0;36m<module>\u001b[1;34m\u001b[0m\n\u001b[0;32m      1\u001b[0m \u001b[1;32mimport\u001b[0m \u001b[0mmath\u001b[0m \u001b[1;32mas\u001b[0m \u001b[0mm\u001b[0m\u001b[1;33m\u001b[0m\u001b[1;33m\u001b[0m\u001b[0m\n\u001b[1;32m----> 2\u001b[1;33m \u001b[0mm\u001b[0m\u001b[1;33m.\u001b[0m\u001b[0msqrt\u001b[0m\u001b[1;33m(\u001b[0m\u001b[1;33m-\u001b[0m\u001b[1;36m1\u001b[0m\u001b[1;33m)\u001b[0m\u001b[1;33m\u001b[0m\u001b[1;33m\u001b[0m\u001b[0m\n\u001b[0m",
      "\u001b[1;31mValueError\u001b[0m: math domain error"
     ]
    }
   ],
   "source": [
    "import math as m\n",
    "m.sqrt(-1)"
   ]
  },
  {
   "cell_type": "markdown",
   "id": "b7b91998-54b2-4337-9ee2-f9c5489236fd",
   "metadata": {},
   "source": [
    "- Using an undeclared variable, such as print(x) when x has not been defined"
   ]
  },
  {
   "cell_type": "code",
   "execution_count": 10,
   "id": "cb984398-2853-4f46-88d7-a34cbd8e5c47",
   "metadata": {},
   "outputs": [
    {
     "ename": "NameError",
     "evalue": "name 'variable9' is not defined",
     "output_type": "error",
     "traceback": [
      "\u001b[1;31m---------------------------------------------------------------------------\u001b[0m",
      "\u001b[1;31mNameError\u001b[0m                                 Traceback (most recent call last)",
      "\u001b[1;32m~\\AppData\\Local\\Temp/ipykernel_1808/195298683.py\u001b[0m in \u001b[0;36m<module>\u001b[1;34m\u001b[0m\n\u001b[1;32m----> 1\u001b[1;33m \u001b[0mprint\u001b[0m\u001b[1;33m(\u001b[0m\u001b[0mvariable9\u001b[0m\u001b[1;33m)\u001b[0m\u001b[1;33m\u001b[0m\u001b[1;33m\u001b[0m\u001b[0m\n\u001b[0m",
      "\u001b[1;31mNameError\u001b[0m: name 'variable9' is not defined"
     ]
    }
   ],
   "source": [
    "print(variable9)"
   ]
  },
  {
   "cell_type": "markdown",
   "id": "59acae2b-4449-4039-951c-9a7c9fba546c",
   "metadata": {},
   "source": [
    "- Trying to open a file that does not exist, such as mistyping the file name or looking in the wrong directory."
   ]
  },
  {
   "cell_type": "code",
   "execution_count": 12,
   "id": "d59d7ac4-83e0-455f-bd0f-229422bd0118",
   "metadata": {},
   "outputs": [
    {
     "ename": "FileNotFoundError",
     "evalue": "[Errno 2] No such file or directory: 'filename.txt'",
     "output_type": "error",
     "traceback": [
      "\u001b[1;31m---------------------------------------------------------------------------\u001b[0m",
      "\u001b[1;31mFileNotFoundError\u001b[0m                         Traceback (most recent call last)",
      "\u001b[1;32m~\\AppData\\Local\\Temp/ipykernel_1808/873668070.py\u001b[0m in \u001b[0;36m<module>\u001b[1;34m\u001b[0m\n\u001b[1;32m----> 1\u001b[1;33m \u001b[1;32mwith\u001b[0m \u001b[0mopen\u001b[0m\u001b[1;33m(\u001b[0m\u001b[1;34m'filename.txt'\u001b[0m\u001b[1;33m)\u001b[0m \u001b[1;32mas\u001b[0m \u001b[0mf\u001b[0m\u001b[1;33m:\u001b[0m\u001b[1;33m\u001b[0m\u001b[1;33m\u001b[0m\u001b[0m\n\u001b[0m\u001b[0;32m      2\u001b[0m    \u001b[0mlines\u001b[0m \u001b[1;33m=\u001b[0m \u001b[0mf\u001b[0m\u001b[1;33m.\u001b[0m\u001b[0mreadlines\u001b[0m\u001b[1;33m(\u001b[0m\u001b[1;33m)\u001b[0m\u001b[1;33m\u001b[0m\u001b[1;33m\u001b[0m\u001b[0m\n",
      "\u001b[1;31mFileNotFoundError\u001b[0m: [Errno 2] No such file or directory: 'filename.txt'"
     ]
    }
   ],
   "source": [
    " with open('filename.txt') as f:\n",
    "    lines = f.readlines()"
   ]
  },
  {
   "cell_type": "markdown",
   "id": "554853f2-218f-44ec-9642-761b5e6cfa24",
   "metadata": {},
   "source": [
    "<h2> Question 10 Python </h2>\n",
    "Encryption is the process of hiding the meaning of a text by substituting letters in the\n",
    "message with other letters, according to some system. If the process is successful, no\n",
    "one but the intended recipient can understand the encrypted message. Cryptanalysis\n",
    "refers to attempts to undo the encryption, even if some details of the encryption are\n",
    "unknown (for example, if an encrypted message has been intercepted). The first step\n",
    "of cryptanalysis is often to build up a table of letter frequencies in the encrypted text.\n",
    "Assume that the string letters is already defined as\n",
    "'abcdefghijklmnopqrstuvwxyz'. Write a function called frequencies()\n",
    "that takes a string as its only parameter, and returns a list of integers, showing the\n",
    "number of times each character appears in the text. Your function may ignore any\n",
    "characters that are not in letters."
   ]
  },
  {
   "cell_type": "code",
   "execution_count": 57,
   "id": "bce91d31-346a-4fd1-ba16-f2bec3231447",
   "metadata": {},
   "outputs": [],
   "source": [
    "def frequencies(text):\n",
    "    dict = {'a':0, 'b':0, 'c':0, 'd':0,'e':0,'f':0,'g':0,'h':0,'i':0,'j':0,'k':0,'l':0,'m':0,'n':0,'o':0,'p':0,'q':0,'r':0,'s':0,'t':0,'u':0,'v':0,'w':0,'x':0,'y':0,'z':0}\n",
    "    for n in text:\n",
    "        n = n.lower()\n",
    "        n = ''.join([i for i in n if not i.isdigit()])\n",
    "        keys = dict.keys()\n",
    "        if n in keys:\n",
    "            dict[n] += 1\n",
    "    print (list(dict.values()))"
   ]
  },
  {
   "cell_type": "code",
   "execution_count": 60,
   "id": "a21f99a6-ca92-40a7-9665-a57b8607a6c7",
   "metadata": {},
   "outputs": [
    {
     "name": "stdout",
     "output_type": "stream",
     "text": [
      "[1, 0, 0, 0, 0, 0, 0, 0, 1, 0, 0, 0, 0, 2, 2, 0, 0, 0, 0, 1, 0, 0, 0, 0, 0, 0]\n"
     ]
    }
   ],
   "source": [
    "frequencies('Apple')"
   ]
  }
 ],
 "metadata": {
  "kernelspec": {
   "display_name": ".NET (C#)",
   "language": "C#",
   "name": ".net-csharp"
  },
  "language_info": {
   "file_extension": ".cs",
   "mimetype": "text/x-csharp",
   "name": "C#",
   "pygments_lexer": "csharp",
   "version": "8.0"
  }
 },
 "nbformat": 4,
 "nbformat_minor": 5
}
